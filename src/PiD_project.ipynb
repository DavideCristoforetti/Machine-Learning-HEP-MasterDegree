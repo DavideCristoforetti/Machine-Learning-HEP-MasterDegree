{
 "cells": [
  {
   "attachments": {},
   "cell_type": "markdown",
   "metadata": {},
   "source": [
    "# PiD Machine learning project"
   ]
  },
  {
   "attachments": {},
   "cell_type": "markdown",
   "metadata": {},
   "source": [
    "The chosen dataset https://www.kaggle.com/code/marianna13/starter-particle-identification-from-94dec2e4-9/input?select=pid-5M.csv is a GEANT4 simulated dataset of electron proton inelastic scattering containing data for protons, positrons, kaons and pions, let's have a look."
   ]
  },
  {
   "cell_type": "code",
   "execution_count": 11,
   "metadata": {},
   "outputs": [
    {
     "name": "stdout",
     "output_type": "stream",
     "text": [
      "The dataset contains:  100000 rows and 7 columns\n"
     ]
    },
    {
     "data": {
      "text/html": [
       "<div>\n",
       "<style scoped>\n",
       "    .dataframe tbody tr th:only-of-type {\n",
       "        vertical-align: middle;\n",
       "    }\n",
       "\n",
       "    .dataframe tbody tr th {\n",
       "        vertical-align: top;\n",
       "    }\n",
       "\n",
       "    .dataframe thead th {\n",
       "        text-align: right;\n",
       "    }\n",
       "</style>\n",
       "<table border=\"1\" class=\"dataframe\">\n",
       "  <thead>\n",
       "    <tr style=\"text-align: right;\">\n",
       "      <th></th>\n",
       "      <th>id</th>\n",
       "      <th>p</th>\n",
       "      <th>theta</th>\n",
       "      <th>beta</th>\n",
       "      <th>nphe</th>\n",
       "      <th>ein</th>\n",
       "      <th>eout</th>\n",
       "    </tr>\n",
       "  </thead>\n",
       "  <tbody>\n",
       "    <tr>\n",
       "      <th>0</th>\n",
       "      <td>211</td>\n",
       "      <td>0.780041</td>\n",
       "      <td>1.081480</td>\n",
       "      <td>0.989962</td>\n",
       "      <td>0</td>\n",
       "      <td>0.000000</td>\n",
       "      <td>0.000000</td>\n",
       "    </tr>\n",
       "    <tr>\n",
       "      <th>1</th>\n",
       "      <td>211</td>\n",
       "      <td>0.260929</td>\n",
       "      <td>0.778892</td>\n",
       "      <td>0.902450</td>\n",
       "      <td>0</td>\n",
       "      <td>0.000000</td>\n",
       "      <td>0.000000</td>\n",
       "    </tr>\n",
       "    <tr>\n",
       "      <th>2</th>\n",
       "      <td>2212</td>\n",
       "      <td>0.773022</td>\n",
       "      <td>0.185953</td>\n",
       "      <td>0.642428</td>\n",
       "      <td>4</td>\n",
       "      <td>0.101900</td>\n",
       "      <td>0.000000</td>\n",
       "    </tr>\n",
       "    <tr>\n",
       "      <th>3</th>\n",
       "      <td>211</td>\n",
       "      <td>0.476997</td>\n",
       "      <td>0.445561</td>\n",
       "      <td>0.951471</td>\n",
       "      <td>0</td>\n",
       "      <td>0.000000</td>\n",
       "      <td>0.000000</td>\n",
       "    </tr>\n",
       "    <tr>\n",
       "      <th>4</th>\n",
       "      <td>2212</td>\n",
       "      <td>2.123290</td>\n",
       "      <td>0.337332</td>\n",
       "      <td>0.908652</td>\n",
       "      <td>0</td>\n",
       "      <td>0.034379</td>\n",
       "      <td>0.049256</td>\n",
       "    </tr>\n",
       "  </tbody>\n",
       "</table>\n",
       "</div>"
      ],
      "text/plain": [
       "     id         p     theta      beta  nphe       ein      eout\n",
       "0   211  0.780041  1.081480  0.989962     0  0.000000  0.000000\n",
       "1   211  0.260929  0.778892  0.902450     0  0.000000  0.000000\n",
       "2  2212  0.773022  0.185953  0.642428     4  0.101900  0.000000\n",
       "3   211  0.476997  0.445561  0.951471     0  0.000000  0.000000\n",
       "4  2212  2.123290  0.337332  0.908652     0  0.034379  0.049256"
      ]
     },
     "execution_count": 11,
     "metadata": {},
     "output_type": "execute_result"
    }
   ],
   "source": [
    "import sys, os\n",
    "import pandas as pd\n",
    "import numpy as np\n",
    "import warnings\n",
    "import gzip, io, requests\n",
    "import time\n",
    "\n",
    "nRowsRead = 100000\n",
    "filename=\"datasets/pid-5M.csv\"\n",
    "complete_dataset=pd.read_csv(filename, nrows = nRowsRead)\n",
    "\n",
    "\n",
    "print(\"The dataset contains:  \" + str(complete_dataset.shape[0]) + \" rows and \" + str(complete_dataset.shape[1]) + \" columns\" )\n",
    "complete_dataset.head()"
   ]
  },
  {
   "attachments": {},
   "cell_type": "markdown",
   "metadata": {},
   "source": [
    "The first column is the label which we want to predict using our models. We have:\n",
    "- Positron: -11\n",
    "- Pion: 211\n",
    "- Kaon: 321\n",
    "- Proton: 2212\n",
    "\n",
    "The rest of the dataset resembles data coming from a particle detector, so we have:\n",
    "- The momentum P (GeV/c), \n",
    "- The angle with respect to the beam direction theta (radiant), \n",
    "- The factor \\beta, \n",
    "- The number of photoelectron emitted,\n",
    "- What I think is the energy deposited in the inner and outer region of the detector.\n",
    "\n",
    "I'm going to Ignore the last three columns, beta and the momentum should be enough for PiD"
   ]
  },
  {
   "cell_type": "code",
   "execution_count": 12,
   "metadata": {},
   "outputs": [
    {
     "name": "stdout",
     "output_type": "stream",
     "text": [
      "The dataset now contains:  100000 rows and 4 columns\n"
     ]
    },
    {
     "data": {
      "text/html": [
       "<div>\n",
       "<style scoped>\n",
       "    .dataframe tbody tr th:only-of-type {\n",
       "        vertical-align: middle;\n",
       "    }\n",
       "\n",
       "    .dataframe tbody tr th {\n",
       "        vertical-align: top;\n",
       "    }\n",
       "\n",
       "    .dataframe thead th {\n",
       "        text-align: right;\n",
       "    }\n",
       "</style>\n",
       "<table border=\"1\" class=\"dataframe\">\n",
       "  <thead>\n",
       "    <tr style=\"text-align: right;\">\n",
       "      <th></th>\n",
       "      <th>id</th>\n",
       "      <th>p</th>\n",
       "      <th>theta</th>\n",
       "      <th>beta</th>\n",
       "    </tr>\n",
       "  </thead>\n",
       "  <tbody>\n",
       "    <tr>\n",
       "      <th>0</th>\n",
       "      <td>211</td>\n",
       "      <td>0.780041</td>\n",
       "      <td>1.081480</td>\n",
       "      <td>0.989962</td>\n",
       "    </tr>\n",
       "    <tr>\n",
       "      <th>1</th>\n",
       "      <td>211</td>\n",
       "      <td>0.260929</td>\n",
       "      <td>0.778892</td>\n",
       "      <td>0.902450</td>\n",
       "    </tr>\n",
       "    <tr>\n",
       "      <th>2</th>\n",
       "      <td>2212</td>\n",
       "      <td>0.773022</td>\n",
       "      <td>0.185953</td>\n",
       "      <td>0.642428</td>\n",
       "    </tr>\n",
       "    <tr>\n",
       "      <th>3</th>\n",
       "      <td>211</td>\n",
       "      <td>0.476997</td>\n",
       "      <td>0.445561</td>\n",
       "      <td>0.951471</td>\n",
       "    </tr>\n",
       "    <tr>\n",
       "      <th>4</th>\n",
       "      <td>2212</td>\n",
       "      <td>2.123290</td>\n",
       "      <td>0.337332</td>\n",
       "      <td>0.908652</td>\n",
       "    </tr>\n",
       "  </tbody>\n",
       "</table>\n",
       "</div>"
      ],
      "text/plain": [
       "     id         p     theta      beta\n",
       "0   211  0.780041  1.081480  0.989962\n",
       "1   211  0.260929  0.778892  0.902450\n",
       "2  2212  0.773022  0.185953  0.642428\n",
       "3   211  0.476997  0.445561  0.951471\n",
       "4  2212  2.123290  0.337332  0.908652"
      ]
     },
     "execution_count": 12,
     "metadata": {},
     "output_type": "execute_result"
    }
   ],
   "source": [
    "nFeatures = 3\n",
    "nLabels = 4\n",
    "complete_dataset.drop(complete_dataset.columns[-nFeatures:], axis=1, inplace=True)\n",
    "print(\"The dataset now contains:  \" + str(complete_dataset.shape[0]) + \" rows and \" + str(complete_dataset.shape[1]) + \" columns\" )\n",
    "complete_dataset.head()\n"
   ]
  },
  {
   "attachments": {},
   "cell_type": "markdown",
   "metadata": {},
   "source": [
    "Now we are interested to see how many particles of each kind are in the dataset and make sure to divide out train and test set accordingly."
   ]
  },
  {
   "cell_type": "code",
   "execution_count": 13,
   "metadata": {},
   "outputs": [
    {
     "name": "stdout",
     "output_type": "stream",
     "text": [
      "The train dataset contains:  90000 rows and 4 columns\n"
     ]
    },
    {
     "data": {
      "text/html": [
       "<div>\n",
       "<style scoped>\n",
       "    .dataframe tbody tr th:only-of-type {\n",
       "        vertical-align: middle;\n",
       "    }\n",
       "\n",
       "    .dataframe tbody tr th {\n",
       "        vertical-align: top;\n",
       "    }\n",
       "\n",
       "    .dataframe thead th {\n",
       "        text-align: right;\n",
       "    }\n",
       "</style>\n",
       "<table border=\"1\" class=\"dataframe\">\n",
       "  <thead>\n",
       "    <tr style=\"text-align: right;\">\n",
       "      <th></th>\n",
       "      <th>id</th>\n",
       "      <th>p</th>\n",
       "      <th>theta</th>\n",
       "      <th>beta</th>\n",
       "    </tr>\n",
       "  </thead>\n",
       "  <tbody>\n",
       "    <tr>\n",
       "      <th>0</th>\n",
       "      <td>211</td>\n",
       "      <td>0.780041</td>\n",
       "      <td>1.081480</td>\n",
       "      <td>0.989962</td>\n",
       "    </tr>\n",
       "    <tr>\n",
       "      <th>1</th>\n",
       "      <td>211</td>\n",
       "      <td>0.260929</td>\n",
       "      <td>0.778892</td>\n",
       "      <td>0.902450</td>\n",
       "    </tr>\n",
       "    <tr>\n",
       "      <th>2</th>\n",
       "      <td>2212</td>\n",
       "      <td>0.773022</td>\n",
       "      <td>0.185953</td>\n",
       "      <td>0.642428</td>\n",
       "    </tr>\n",
       "    <tr>\n",
       "      <th>3</th>\n",
       "      <td>211</td>\n",
       "      <td>0.476997</td>\n",
       "      <td>0.445561</td>\n",
       "      <td>0.951471</td>\n",
       "    </tr>\n",
       "    <tr>\n",
       "      <th>4</th>\n",
       "      <td>2212</td>\n",
       "      <td>2.123290</td>\n",
       "      <td>0.337332</td>\n",
       "      <td>0.908652</td>\n",
       "    </tr>\n",
       "  </tbody>\n",
       "</table>\n",
       "</div>"
      ],
      "text/plain": [
       "     id         p     theta      beta\n",
       "0   211  0.780041  1.081480  0.989962\n",
       "1   211  0.260929  0.778892  0.902450\n",
       "2  2212  0.773022  0.185953  0.642428\n",
       "3   211  0.476997  0.445561  0.951471\n",
       "4  2212  2.123290  0.337332  0.908652"
      ]
     },
     "execution_count": 13,
     "metadata": {},
     "output_type": "execute_result"
    }
   ],
   "source": [
    "N_Test = 10000\n",
    "N_Train = nRowsRead - N_Test\n",
    "\n",
    "train_df = complete_dataset.iloc[:N_Train]\n",
    "\n",
    "# Create Test dataset with the remaining rows\n",
    "test_df = complete_dataset.iloc[N_Train:]\n",
    "\n",
    "# Optionally, you can reset the index for both datasets\n",
    "train_df.reset_index(drop=True, inplace=True)\n",
    "test_df.reset_index(drop=True, inplace=True)\n",
    "\n",
    "print(\"The train dataset contains:  \" + str(train_df.shape[0]) + \" rows and \" + str(train_df.shape[1]) + \" columns\" )\n",
    "train_df.head()\n",
    "\n",
    "#print(\"The test dataset contains:  \" + str(test_df.shape[0]) + \" rows and \" + str(test_df.shape[1]) + \" columns\" )\n",
    "#test_df.head()\n"
   ]
  },
  {
   "cell_type": "code",
   "execution_count": 14,
   "metadata": {},
   "outputs": [
    {
     "data": {
      "image/png": "[encoded data removed]",
      "text/plain": [
       "<Figure size 800x600 with 1 Axes>"
      ]
     },
     "metadata": {},
     "output_type": "display_data"
    },
    {
     "data": {
      "image/png": "[encoded data removed]",
      "text/plain": [
       "<Figure size 800x600 with 1 Axes>"
      ]
     },
     "metadata": {},
     "output_type": "display_data"
    },
    {
     "data": {
      "image/png": "[encoded data removed]",
      "text/plain": [
       "<Figure size 800x600 with 1 Axes>"
      ]
     },
     "metadata": {},
     "output_type": "display_data"
    }
   ],
   "source": [
    "import matplotlib.pyplot as plt\n",
    "\n",
    "# Define particle ID labels\n",
    "particle_labels = {\n",
    "    -11: 'Positron',\n",
    "    211: 'Pion',\n",
    "    321: 'Kaon',\n",
    "    2212: 'Proton'\n",
    "}\n",
    "\n",
    "# Function to plot histogram\n",
    "def plot_histogram(data, title):\n",
    "    plt.figure(figsize=(8, 6))\n",
    "    data.value_counts().sort_index().plot(kind='bar', color='skyblue')\n",
    "    plt.title(title)\n",
    "    plt.xlabel('Particle')\n",
    "    plt.ylabel('Count')\n",
    "    plt.xticks(rotation=0)\n",
    "    plt.show()\n",
    "\n",
    "# Plot histogram for complete dataset\n",
    "plot_histogram(complete_dataset['id'].map(particle_labels), 'Particle Distribution - Complete Dataset')\n",
    "\n",
    "# Plot histogram for train dataset\n",
    "plot_histogram(train_df['id'].map(particle_labels), 'Particle Distribution - Train Dataset')\n",
    "\n",
    "# Plot histogram for test dataset\n",
    "plot_histogram(test_df['id'].map(particle_labels), 'Particle Distribution - Test Dataset')"
   ]
  },
  {
   "attachments": {},
   "cell_type": "markdown",
   "metadata": {},
   "source": [
    "It's a very imbalaced dataset.\n",
    "\n",
    "Let's fix it."
   ]
  },
  {
   "cell_type": "code",
   "execution_count": 15,
   "metadata": {},
   "outputs": [
    {
     "data": {
      "image/png": "[encoded data removed]",
      "text/plain": [
       "<Figure size 800x600 with 1 Axes>"
      ]
     },
     "metadata": {},
     "output_type": "display_data"
    }
   ],
   "source": [
    "from sklearn.utils import resample\n",
    "\n",
    "# First divide in classes\n",
    "kaons_df = train_df[train_df['id'] == 321]\n",
    "pions_df = train_df[train_df['id'] == 211]\n",
    "positrons_df = train_df[train_df['id'] == -11]\n",
    "protons_df = train_df[train_df['id'] == 2212]\n",
    "\n",
    "# Now try to oversample Kaons and Positrons, while undesampling Pions and Protons\n",
    "sample_target = round(N_Train)\n",
    "kaons_df = kaons_df.sample(sample_target, replace=True if sample_target > len(kaons_df) else False)\n",
    "pions_df = pions_df.sample(sample_target, replace=True if sample_target > len(pions_df) else False)\n",
    "positrons_df = positrons_df.sample(sample_target, replace=True if sample_target > len(positrons_df) else False)\n",
    "protons_df = protons_df.sample(sample_target, replace=True if sample_target > len(protons_df) else False)\n",
    "\n",
    "train_df = pd.concat([kaons_df, pions_df, positrons_df, protons_df], axis=0)\n",
    "train_df.head()\n",
    "plot_histogram(train_df['id'].map(particle_labels), 'Particle Distribution - Train Dataset')\n",
    "\n"
   ]
  },
  {
   "attachments": {},
   "cell_type": "markdown",
   "metadata": {},
   "source": [
    "Now the dataset looks well balanced!\n",
    "\n",
    "Finally, it is better to shuffle the dataframe as this avoids introducing any bias."
   ]
  },
  {
   "cell_type": "code",
   "execution_count": 16,
   "metadata": {},
   "outputs": [
    {
     "data": {
      "text/html": [
       "<div>\n",
       "<style scoped>\n",
       "    .dataframe tbody tr th:only-of-type {\n",
       "        vertical-align: middle;\n",
       "    }\n",
       "\n",
       "    .dataframe tbody tr th {\n",
       "        vertical-align: top;\n",
       "    }\n",
       "\n",
       "    .dataframe thead th {\n",
       "        text-align: right;\n",
       "    }\n",
       "</style>\n",
       "<table border=\"1\" class=\"dataframe\">\n",
       "  <thead>\n",
       "    <tr style=\"text-align: right;\">\n",
       "      <th></th>\n",
       "      <th>id</th>\n",
       "      <th>p</th>\n",
       "      <th>theta</th>\n",
       "      <th>beta</th>\n",
       "    </tr>\n",
       "  </thead>\n",
       "  <tbody>\n",
       "    <tr>\n",
       "      <th>40981</th>\n",
       "      <td>321</td>\n",
       "      <td>1.770500</td>\n",
       "      <td>0.367258</td>\n",
       "      <td>0.984325</td>\n",
       "    </tr>\n",
       "    <tr>\n",
       "      <th>44375</th>\n",
       "      <td>321</td>\n",
       "      <td>0.775921</td>\n",
       "      <td>0.733556</td>\n",
       "      <td>0.843573</td>\n",
       "    </tr>\n",
       "    <tr>\n",
       "      <th>4885</th>\n",
       "      <td>-11</td>\n",
       "      <td>0.906386</td>\n",
       "      <td>0.304971</td>\n",
       "      <td>1.026640</td>\n",
       "    </tr>\n",
       "    <tr>\n",
       "      <th>14818</th>\n",
       "      <td>-11</td>\n",
       "      <td>0.354620</td>\n",
       "      <td>1.097770</td>\n",
       "      <td>0.997768</td>\n",
       "    </tr>\n",
       "    <tr>\n",
       "      <th>7076</th>\n",
       "      <td>2212</td>\n",
       "      <td>0.969863</td>\n",
       "      <td>0.259218</td>\n",
       "      <td>0.713638</td>\n",
       "    </tr>\n",
       "  </tbody>\n",
       "</table>\n",
       "</div>"
      ],
      "text/plain": [
       "         id         p     theta      beta\n",
       "40981   321  1.770500  0.367258  0.984325\n",
       "44375   321  0.775921  0.733556  0.843573\n",
       "4885    -11  0.906386  0.304971  1.026640\n",
       "14818   -11  0.354620  1.097770  0.997768\n",
       "7076   2212  0.969863  0.259218  0.713638"
      ]
     },
     "execution_count": 16,
     "metadata": {},
     "output_type": "execute_result"
    }
   ],
   "source": [
    "train_df = train_df.sample(frac=1, random_state=42)\n",
    "train_df.head()"
   ]
  },
  {
   "attachments": {},
   "cell_type": "markdown",
   "metadata": {},
   "source": [
    "Finally we store the features and the labels in different arrays. It is also useful to make a dictionary to easily change between particle IDs and integers if needed as index."
   ]
  },
  {
   "cell_type": "code",
   "execution_count": 17,
   "metadata": {},
   "outputs": [],
   "source": [
    "features_array = train_df.iloc[:, -3:].values\n",
    "IDs_array = train_df.iloc[:,0].values\n",
    "features_and_IDs = train_df.iloc[:, -4:].values\n",
    "#print(features_and_IDs)\n",
    "\n",
    "test_features_array = test_df.iloc[:, -3:].values\n",
    "test_IDs_array = test_df.iloc[:,0].values\n",
    "\n",
    "particleIDs_index = {\n",
    "    # This choice follows the plots above\n",
    "    -11: 2,   # Positron\n",
    "    211: 1,   # Pion\n",
    "    321: 0,   # Kaon\n",
    "    2212: 3   # Proton\n",
    "}\n",
    "\n",
    "# Useful for later\n",
    "IDs_indeces = (train_df[\"id\"].map(particleIDs_index)).values\n",
    "num_samples = features_array.shape[0]\n",
    "\n",
    "#print(IDs_indeces)\n",
    "#print(len(IDs_indeces))\n",
    "#print(len(IDs_indeces.dropna().index))\n"
   ]
  },
  {
   "attachments": {},
   "cell_type": "markdown",
   "metadata": {},
   "source": [
    "# First approach: Linear Model\n",
    "\n",
    "Here we follow the same steps saw during lesson.\n",
    "\n",
    "Let's start by defining the linear model as follows:\n",
    "\n",
    "\n",
    " ${\\rm z}_j = X_{i} W_{ij}+b_{j}$\n",
    "\n",
    " where, $i=1,2,3$ (i.e. the three features), $j=1,2,3,4$ (Kaon, Pion, Positron, Proton). The probability of this score is given using the sigmoid function:\n",
    "\n",
    "   $\\sigma(z_j) = \\frac{\\exp(-z_j)}{\\sum_k \\exp(-z_k)}$\n",
    "  \n",
    "repeated indices are understood to be summed over. By definition,\n",
    "\n",
    "  $\\sum_j \\sigma(z_j) = 1$\n",
    "  \n",
    "so $P(X) = \\sigma(z(X))$ outputs 4 values (4 particles) between 0 and 1 that sum to 1.\n",
    "\n",
    "The final prediction of the model would be the most likely of the possible particle:\n",
    "\n",
    "${\\rm Particle}_{\\rm pred} = {\\rm argmax}(z(X))$\n",
    "\n",
    "which is its particle ID:\n",
    "- Positron: -11\n",
    "- Pion: 211\n",
    "- Kaon: 321\n",
    "- Proton: 2212"
   ]
  },
  {
   "attachments": {},
   "cell_type": "markdown",
   "metadata": {},
   "source": [
    "Now it's time to initialize and train the model\n"
   ]
  },
  {
   "attachments": {},
   "cell_type": "markdown",
   "metadata": {},
   "source": [
    "Let's first start with gradient descent method"
   ]
  },
  {
   "cell_type": "code",
   "execution_count": 18,
   "metadata": {},
   "outputs": [],
   "source": [
    "from IPython.display import display, clear_output\n",
    "%matplotlib inline"
   ]
  },
  {
   "cell_type": "code",
   "execution_count": 19,
   "metadata": {},
   "outputs": [
    {
     "name": "stdout",
     "output_type": "stream",
     "text": [
      "iteration 990: loss 0.932594\n"
     ]
    },
    {
     "data": {
      "image/png": "[encoded data removed]",
      "text/plain": [
       "<Figure size 640x480 with 1 Axes>"
      ]
     },
     "metadata": {},
     "output_type": "display_data"
    }
   ],
   "source": [
    "\n",
    "# initialize parameters randomly\n",
    "W = 0.01 * np.random.randn(nFeatures,nLabels)\n",
    "b = np.zeros((1,nLabels))\n",
    "\n",
    "\n",
    "num_samples = features_array.shape[0]\n",
    "\n",
    "# Plotting losses\n",
    "show_plot = True\n",
    "losses = []\n",
    "\n",
    "\n",
    "iterations = 1000\n",
    "print_freq = 10\n",
    "\n",
    "# some hyperparameters\n",
    "step_size = 0.7\n",
    "reg = 1e-3 # regularization strength\n",
    "\n",
    "\n",
    "\n",
    "\n",
    "\n",
    "for i in range(iterations):\n",
    "\n",
    "    # evaluate class scores, [N x n_colours]\n",
    "    scores = np.dot(features_array, W) + b\n",
    "\n",
    "    # compute the class probabilities\n",
    "    exp_scores = np.exp(scores)\n",
    "    probs = exp_scores / np.sum(exp_scores, axis=1, keepdims=True) # [N x n_colours]\n",
    "\n",
    "    # compute the loss: average cross-entropy loss and regularization\n",
    "    logprobs = -np.log(probs[range(num_samples),IDs_indeces])\n",
    "    data_loss = np.sum(logprobs)/num_samples\n",
    "    reg_loss = 0.5*reg*np.sum(W*W)\n",
    "    \n",
    "    # Implementing early stopping\n",
    "    if(i !=0 ):\n",
    "        if(loss < data_loss + reg_loss):\n",
    "            break\n",
    "    loss = data_loss + reg_loss\n",
    "\n",
    "\n",
    "\n",
    "    if i % print_freq == 0:\n",
    "        clear_output(wait=True)\n",
    "        print(\"iteration %d: loss %f\" % (i, loss))\n",
    "\n",
    "        if(show_plot):\n",
    "            losses.append(loss)\n",
    "\n",
    "            plt.clf()  # Clear the current figure for the next iteration\n",
    "            # Plot the losses\n",
    "            plt.plot(np.arange(print_freq, i+print_freq+1, print_freq), losses, color='blue')\n",
    "            plt.xlabel('Iteration')\n",
    "            plt.ylabel('Loss')\n",
    "            plt.title('Loss vs Iteration')\n",
    "            plt.grid(True)\n",
    "            #display(plt.gcf())  # Display the current figure\n",
    "            #clear_output(wait=True)  # Clear the output for the next iteration\n",
    "            #plt.pause(0.01)  # Pause for a short time to update the plot\n",
    "            plt.show()\n",
    "\n",
    "\n",
    "    # compute the gradient on scores\n",
    "    dscores = probs\n",
    "    dscores[range(num_samples),IDs_indeces] -= 1\n",
    "    dscores /= num_samples\n",
    "\n",
    "    # backpropate the gradient to the parameters (W,b)\n",
    "    dW = np.dot(features_array.T, dscores)\n",
    "    db = np.sum(dscores, axis=0, keepdims=True)\n",
    "\n",
    "    dW += reg*W # regularization gradient\n",
    "\n",
    "    # perform a parameter update\n",
    "    W += -step_size * dW\n",
    "    b += -step_size * db"
   ]
  },
  {
   "attachments": {},
   "cell_type": "markdown",
   "metadata": {},
   "source": [
    "Check accuracy\n"
   ]
  },
  {
   "cell_type": "code",
   "execution_count": 20,
   "metadata": {},
   "outputs": [
    {
     "name": "stdout",
     "output_type": "stream",
     "text": [
      "training accuracy: 0.67\n"
     ]
    }
   ],
   "source": [
    "scores = np.dot(features_array, W) + b\n",
    "predicted_par = np.argmax(scores, axis=1)\n",
    "print('training accuracy: %.2f' % (np.mean(predicted_par == IDs_indeces)))\n"
   ]
  },
  {
   "attachments": {},
   "cell_type": "markdown",
   "metadata": {},
   "source": [
    "Now let's check performances"
   ]
  },
  {
   "cell_type": "code",
   "execution_count": 21,
   "metadata": {},
   "outputs": [
    {
     "name": "stdout",
     "output_type": "stream",
     "text": [
      "Extracted row =  3223\n",
      "Scores:\n",
      "- Kaon:      0.10143576614405914\n",
      "- Pion:      1.0213928217729755\n",
      "- Positron:  -0.3025452656298465\n",
      "- Proton:    -0.8067541903964166\n",
      "Extracted test particle:  Pion\n",
      "Predicted Particle:  Pion\n"
     ]
    }
   ],
   "source": [
    "random_particle = np.random.randint(0, len(test_features_array + 1))\n",
    "print(\"Extracted row = \", random_particle)\n",
    "scores = np.dot(test_features_array[random_particle], W) + b\n",
    "print(\"Scores:\")\n",
    "print(\"- Kaon:     \", scores[0][0])\n",
    "print(\"- Pion:     \", scores[0][1])\n",
    "print(\"- Positron: \", scores[0][2])\n",
    "print(\"- Proton:   \", scores[0][3])\n",
    "print(\"Extracted test particle: \",particle_labels[test_IDs_array[random_particle]])\n",
    "index = np.argmax(scores)\n",
    "particle_id = next(key for key, value in particleIDs_index.items() if value == index)\n",
    "print(\"Predicted Particle: \", particle_labels[particle_id])"
   ]
  },
  {
   "attachments": {},
   "cell_type": "markdown",
   "metadata": {},
   "source": [
    "Now we implement stochasticity, and try with SDG method"
   ]
  },
  {
   "cell_type": "code",
   "execution_count": 22,
   "metadata": {},
   "outputs": [
    {
     "name": "stdout",
     "output_type": "stream",
     "text": [
      "iteration 9990: loss 0.805818, avg loss 0.0952387\n"
     ]
    },
    {
     "data": {
      "image/png": "[encoded data removed]",
      "text/plain": [
       "<Figure size 640x480 with 1 Axes>"
      ]
     },
     "metadata": {},
     "output_type": "display_data"
    },
    {
     "data": {
      "text/plain": [
       "<Figure size 640x480 with 0 Axes>"
      ]
     },
     "metadata": {},
     "output_type": "display_data"
    }
   ],
   "source": [
    "# initialize parameters randomly\n",
    "W = 0.01 * np.random.randn(nFeatures,nLabels)\n",
    "b = np.zeros((1,nLabels))\n",
    "\n",
    "\n",
    "\n",
    "# Plotting losses\n",
    "show_plot = True\n",
    "losses = []\n",
    "\n",
    "\n",
    "iterations = 10000\n",
    "print_freq = 10\n",
    "\n",
    "# some hyperparameters\n",
    "step_size = 0.2\n",
    "reg = 1e-3 # regularization strength\n",
    "batch_size = 32\n",
    "\n",
    "\n",
    "# gradient descent loop\n",
    "for i in range(iterations):\n",
    "\n",
    "    # This selects \"bunch_size\" indices ranging from [0, num_samples) whitout replacing\n",
    "    batch_indices = np.random.choice(num_samples, batch_size, replace=False)\n",
    "\n",
    "\n",
    "\n",
    "    # Extract the corresponding labels and features\n",
    "    batch_features = features_array[batch_indices]\n",
    "    batch_labels = IDs_indeces[batch_indices]\n",
    "\n",
    "    # evaluate class scores, [N x n_colours]\n",
    "    scores = np.dot(batch_features, W) + b\n",
    "\n",
    "    # compute the class probabilities\n",
    "    exp_scores = np.exp(scores)\n",
    "    probs = exp_scores / np.sum(exp_scores, axis=1, keepdims=True) # [N x n_colours]\n",
    "\n",
    "    # compute the loss: average cross-entropy loss and regularization\n",
    "    logprobs = -np.log(probs[range(batch_size),batch_labels])\n",
    "    data_loss = np.sum(logprobs)/batch_size\n",
    "    reg_loss = 0.5*reg*np.sum(W*W)\n",
    "\n",
    "    # Early stopping is harder for SGD\n",
    "    #if(i !=0 ):\n",
    "    #    if(loss < data_loss + reg_loss):\n",
    "    #        break\n",
    "    loss = data_loss + reg_loss\n",
    "\n",
    "\n",
    "\n",
    "    if i % (print_freq) == 0:\n",
    "        clear_output(wait=True)\n",
    "        losses.append(loss)\n",
    "        cumulative_loss = np.cumsum(losses)\n",
    "        \n",
    "        # Calculate the average loss at each iteration\n",
    "        avg_loss = cumulative_loss / np.arange(print_freq, i+print_freq +1, print_freq)\n",
    "        print(\"iteration %d: loss %f, avg loss %g\" % (i, loss, avg_loss[-1]))\n",
    "\n",
    "        if(show_plot):\n",
    "            # Plot the losses\n",
    "            plt.plot(np.arange(print_freq, i+print_freq + 1, print_freq), avg_loss, color='blue')\n",
    "            plt.xlabel('Iteration')\n",
    "            plt.ylabel('Loss')\n",
    "            plt.title('Average Loss vs Iteration (SDG)')\n",
    "            plt.grid(True)\n",
    "            display(plt.gcf())  # Display the current figure\n",
    "            #clear_output(wait=True)  # Clear the output for the next iteration\n",
    "            #plt.pause(0.01)  # Pause for a short time to update the plot\n",
    "            plt.clf()  # Clear the current figure for the next iteration\n",
    "            plt.show()\n",
    "\n",
    "    # compute the gradient on scores\n",
    "    dscores = probs\n",
    "    dscores[range(batch_size),batch_labels] -= 1\n",
    "    dscores /= batch_size\n",
    "\n",
    "    # backpropate the gradient to the parameters (W,b)\n",
    "    dW = np.dot(batch_features.T, dscores)\n",
    "    db = np.sum(dscores, axis=0, keepdims=True)\n",
    "\n",
    "    dW += reg*W # regularization gradient\n",
    "\n",
    "    # perform a parameter update\n",
    "    W += -step_size * dW\n",
    "    b += -step_size * db\n",
    "\n",
    "\n",
    "\n"
   ]
  },
  {
   "cell_type": "code",
   "execution_count": 23,
   "metadata": {},
   "outputs": [
    {
     "name": "stdout",
     "output_type": "stream",
     "text": [
      "training accuracy: 0.70\n"
     ]
    }
   ],
   "source": [
    "scores = np.dot(features_array, W) + b\n",
    "predicted_par = np.argmax(scores, axis=1)\n",
    "print('training accuracy: %.2f' % (np.mean(predicted_par == IDs_indeces)))\n",
    "\n",
    "#print(W)"
   ]
  },
  {
   "attachments": {},
   "cell_type": "markdown",
   "metadata": {},
   "source": [
    "The training is done, let's now check the performances"
   ]
  },
  {
   "cell_type": "code",
   "execution_count": 24,
   "metadata": {},
   "outputs": [
    {
     "name": "stdout",
     "output_type": "stream",
     "text": [
      "Extracted row =  3702\n",
      "Scores:\n",
      "- Kaon:      -0.2744923749686867\n",
      "- Pion:      1.6033912062645745\n",
      "- Positron:  0.38937767209755414\n",
      "- Proton:    -1.7210364305088435\n",
      "Extracted test particle:  Pion\n",
      "Predicted Particle:  Pion\n"
     ]
    }
   ],
   "source": [
    "random_particle = np.random.randint(0, len(test_features_array + 1))\n",
    "print(\"Extracted row = \", random_particle)\n",
    "scores = np.dot(test_features_array[random_particle], W) + b\n",
    "print(\"Scores:\")\n",
    "print(\"- Kaon:     \", scores[0][0])\n",
    "print(\"- Pion:     \", scores[0][1])\n",
    "print(\"- Positron: \", scores[0][2])\n",
    "print(\"- Proton:   \", scores[0][3])\n",
    "print(\"Extracted test particle: \",particle_labels[test_IDs_array[random_particle]])\n",
    "index = np.argmax(scores)\n",
    "particle_id = next(key for key, value in particleIDs_index.items() if value == index)\n",
    "print(\"Predicted Particle: \", particle_labels[particle_id])\n"
   ]
  },
  {
   "attachments": {},
   "cell_type": "markdown",
   "metadata": {},
   "source": [
    "# Second Approach: Non linear model using Neural Network."
   ]
  },
  {
   "attachments": {},
   "cell_type": "markdown",
   "metadata": {},
   "source": [
    "This NN uses 1 hidden layer with set depth. Again let's see theregular gradient descent first"
   ]
  },
  {
   "cell_type": "code",
   "execution_count": 25,
   "metadata": {},
   "outputs": [
    {
     "name": "stdout",
     "output_type": "stream",
     "text": [
      "iteration 990: loss 0.743790\n"
     ]
    },
    {
     "data": {
      "image/png": "[encoded data removed]",
      "text/plain": [
       "<Figure size 640x480 with 1 Axes>"
      ]
     },
     "metadata": {},
     "output_type": "display_data"
    }
   ],
   "source": [
    "%matplotlib inline\n",
    "\n",
    "\n",
    "h = 100 # size of hidden layer\n",
    "W = 0.01 * np.random.randn(nFeatures,h)\n",
    "b = np.zeros((1,h))\n",
    "W2 = 0.01 * np.random.randn(h,nLabels)\n",
    "b2 = np.zeros((1,nLabels))\n",
    "\n",
    "\n",
    "num_samples = features_array.shape[0]\n",
    "\n",
    "\n",
    "# Plotting losses\n",
    "show_plot = True\n",
    "losses = []\n",
    "\n",
    "\n",
    "iterations = 1000\n",
    "print_freq = 10\n",
    "\n",
    "# some hyperparameters for the gradient descent\n",
    "# Interesting result for step size = 1\n",
    "step_size = 0.7\n",
    "reg = 1e-3 # regularization strength\n",
    "\n",
    "for i in range(iterations):\n",
    "\n",
    "    # evaluate class scores, [N x n_colours]\n",
    "    hidden_layer = np.maximum(0, np.dot(features_array, W) + b) # note, ReLU activation\n",
    "    scores = np.dot(hidden_layer, W2) + b2\n",
    "\n",
    "    # compute the class probabilities\n",
    "    exp_scores = np.exp(scores)\n",
    "    probs = exp_scores / np.sum(exp_scores, axis=1, keepdims=True) # [N x K]\n",
    "\n",
    "    # compute the loss: average cross-entropy loss and regularization\n",
    "    correct_logprobs = -np.log(probs[range(num_samples),IDs_indeces])\n",
    "    data_loss = np.sum(correct_logprobs)/num_samples\n",
    "    reg_loss = 0.5*reg*np.sum(W*W) + 0.5*reg*np.sum(W2*W2)\n",
    "    \n",
    "    # # implementing early stopping\n",
    "    # if(i !=0 ):\n",
    "    #     if(loss < data_loss + reg_loss):\n",
    "    #         break\n",
    "    \n",
    "    loss = data_loss + reg_loss\n",
    "    if i % print_freq == 0:\n",
    "        clear_output(wait=True)\n",
    "        print(\"iteration %d: loss %f\" % (i, loss))\n",
    "\n",
    "        if(show_plot):\n",
    "            losses.append(loss)\n",
    "\n",
    "            plt.clf()  # Clear the current figure for the next iteration\n",
    "            # Plot the losses\n",
    "            plt.plot(np.arange(print_freq, i+print_freq+1, print_freq), losses, color='blue')\n",
    "            plt.xlabel('Iteration')\n",
    "            plt.ylabel('Loss')\n",
    "            plt.title('Loss vs Iteration')\n",
    "            plt.grid(True)\n",
    "            #display(plt.gcf())  # Display the current figure\n",
    "            #clear_output(wait=True)  # Clear the output for the next iteration\n",
    "            #plt.pause(0.01)  # Pause for a short time to update the plot\n",
    "            plt.show()\n",
    "\n",
    "\n",
    "    # compute the gradient on scores\n",
    "    dscores = probs\n",
    "    dscores[range(num_samples),IDs_indeces] -= 1\n",
    "    dscores /= num_samples\n",
    "\n",
    "    # backpropate the gradient to the parameters\n",
    "    # first backprop into parameters W2 and b2\n",
    "    dW2 = np.dot(hidden_layer.T, dscores)\n",
    "    db2 = np.sum(dscores, axis=0, keepdims=True)\n",
    "    # next backprop into hidden layer\n",
    "    dhidden = np.dot(dscores, W2.T)\n",
    "    # backprop the ReLU non-linearity\n",
    "    dhidden[hidden_layer <= 0] = 0\n",
    "    # finally into W,b\n",
    "    dW = np.dot(features_array.T, dhidden)\n",
    "    db = np.sum(dhidden, axis=0, keepdims=True)\n",
    "\n",
    "    # add regularization gradient contribution\n",
    "    dW2 += reg * W2\n",
    "    dW += reg * W\n",
    "\n",
    "    # perform a parameter update\n",
    "    W += -step_size * dW\n",
    "    b += -step_size * db\n",
    "    W2 += -step_size * dW2\n",
    "    b2 += -step_size * db2"
   ]
  },
  {
   "attachments": {},
   "cell_type": "markdown",
   "metadata": {},
   "source": [
    "Check accuracy"
   ]
  },
  {
   "cell_type": "code",
   "execution_count": 26,
   "metadata": {},
   "outputs": [
    {
     "name": "stdout",
     "output_type": "stream",
     "text": [
      "training accuracy: 0.69\n"
     ]
    }
   ],
   "source": [
    "# evaluate training set accuracy\n",
    "hidden_layer = np.maximum(0, np.dot(features_array, W) + b)\n",
    "scores = np.dot(hidden_layer, W2) + b2\n",
    "predicted_class = np.argmax(scores, axis=1)\n",
    "print('training accuracy: %.2f' % (np.mean(predicted_class == IDs_indeces)))"
   ]
  },
  {
   "attachments": {},
   "cell_type": "markdown",
   "metadata": {},
   "source": [
    "And training performances"
   ]
  },
  {
   "cell_type": "code",
   "execution_count": 27,
   "metadata": {},
   "outputs": [
    {
     "name": "stdout",
     "output_type": "stream",
     "text": [
      "Extracted row =  5775\n",
      "Scores:\n",
      "- Kaon:      0.7441683763560412\n",
      "- Pion:      2.4980587702418493\n",
      "- Positron:  2.6680652345780445\n",
      "- Proton:    -5.915937719306449\n",
      "Extracted test particle:  Pion\n",
      "Predicted Particle:  Positron\n"
     ]
    }
   ],
   "source": [
    "random_particle = np.random.randint(0, len(test_features_array + 1))\n",
    "print(\"Extracted row = \", random_particle)\n",
    "hidden_layer = np.maximum(0, np.dot(test_features_array[random_particle], W) + b)\n",
    "scores = np.dot(hidden_layer, W2) + b2\n",
    "print(\"Scores:\")\n",
    "print(\"- Kaon:     \", scores[0][0])\n",
    "print(\"- Pion:     \", scores[0][1])\n",
    "print(\"- Positron: \", scores[0][2])\n",
    "print(\"- Proton:   \", scores[0][3])\n",
    "print(\"Extracted test particle: \",particle_labels[test_IDs_array[random_particle]])\n",
    "index = np.argmax(scores)\n",
    "particle_id = next(key for key, value in particleIDs_index.items() if value == index)\n",
    "print(\"Predicted Particle: \", particle_labels[particle_id])"
   ]
  },
  {
   "attachments": {},
   "cell_type": "markdown",
   "metadata": {},
   "source": [
    "Now let's see how it compares against the SGD method"
   ]
  },
  {
   "cell_type": "code",
   "execution_count": 28,
   "metadata": {},
   "outputs": [
    {
     "name": "stdout",
     "output_type": "stream",
     "text": [
      "iteration 9990: loss 0.451544, avg loss 0.0662099\n"
     ]
    },
    {
     "data": {
      "image/png": "[encoded data removed]",
      "text/plain": [
       "<Figure size 640x480 with 1 Axes>"
      ]
     },
     "metadata": {},
     "output_type": "display_data"
    },
    {
     "data": {
      "text/plain": [
       "<Figure size 640x480 with 0 Axes>"
      ]
     },
     "metadata": {},
     "output_type": "display_data"
    }
   ],
   "source": [
    "%matplotlib inline\n",
    "\n",
    "\n",
    "h = 100 # size of hidden layer\n",
    "W = 0.01 * np.random.randn(nFeatures,h)\n",
    "b = np.zeros((1,h))\n",
    "W2 = 0.01 * np.random.randn(h,nLabels)\n",
    "b2 = np.zeros((1,nLabels))\n",
    "\n",
    "\n",
    "num_samples = features_array.shape[0]\n",
    "\n",
    "\n",
    "# Plotting losses\n",
    "show_plot = True\n",
    "losses = []\n",
    "\n",
    "\n",
    "iterations = 10000\n",
    "print_freq = 10\n",
    "\n",
    "# some hyperparameters for the gradient descent\n",
    "step_size = 0.2\n",
    "reg = 1e-3 # regularization strength\n",
    "batch_size = 32\n",
    "\n",
    "for i in range(iterations):\n",
    "\n",
    "    # This selects \"bunch_size\" indices ranging from [0, num_samples) whitout replacing\n",
    "    batch_indices = np.random.choice(num_samples, batch_size, replace=False)\n",
    "\n",
    "\n",
    "\n",
    "    # Extract the corresponding labels and features\n",
    "    batch_features = features_array[batch_indices]\n",
    "    batch_labels = IDs_indeces[batch_indices]\n",
    "\n",
    "\n",
    "    # evaluate class scores, [N x n_colours]\n",
    "    hidden_layer = np.maximum(0, np.dot(batch_features, W) + b) # note, ReLU activation\n",
    "    scores = np.dot(hidden_layer, W2) + b2\n",
    "\n",
    "    # compute the class probabilities\n",
    "    exp_scores = np.exp(scores)\n",
    "    probs = exp_scores / np.sum(exp_scores, axis=1, keepdims=True) # [N x K]\n",
    "\n",
    "    # compute the loss: average cross-entropy loss and regularization\n",
    "    correct_logprobs = -np.log(probs[range(batch_size),batch_labels])\n",
    "    data_loss = np.sum(correct_logprobs)/batch_size\n",
    "    reg_loss = 0.5*reg*np.sum(W*W) + 0.5*reg*np.sum(W2*W2)\n",
    "    \n",
    "    # implementing early stopping\n",
    "    #if(i !=0 ):\n",
    "    #    if(loss < data_loss + reg_loss):\n",
    "    #        break\n",
    "    \n",
    "\n",
    "    loss = data_loss + reg_loss\n",
    "\n",
    "    if i % (print_freq) == 0:\n",
    "        clear_output(wait=True)\n",
    "        losses.append(loss)\n",
    "        cumulative_loss = np.cumsum(losses)\n",
    "        \n",
    "        # Calculate the average loss at each iteration\n",
    "        avg_loss = cumulative_loss / np.arange(print_freq, i+print_freq +1, print_freq)\n",
    "        print(\"iteration %d: loss %f, avg loss %g\" % (i, loss, avg_loss[-1]))\n",
    "\n",
    "        if(show_plot):\n",
    "            # Plot the losses\n",
    "            plt.plot(np.arange(print_freq, i+print_freq + 1, print_freq), avg_loss, color='blue')\n",
    "            plt.xlabel('Iteration')\n",
    "            plt.ylabel('Loss')\n",
    "            plt.title('Average Loss vs Iteration (SDG)')\n",
    "            plt.grid(True)\n",
    "            display(plt.gcf())  # Display the current figure\n",
    "            #clear_output(wait=True)  # Clear the output for the next iteration\n",
    "            #plt.pause(0.01)  # Pause for a short time to update the plot\n",
    "            plt.clf()  # Clear the current figure for the next iteration\n",
    "            plt.show()\n",
    "\n",
    "    # compute the gradient on scores\n",
    "    dscores = probs\n",
    "    dscores[range(batch_size),batch_labels] -= 1\n",
    "    dscores /= batch_size\n",
    "\n",
    "    # backpropate the gradient to the parameters\n",
    "    # first backprop into parameters W2 and b2\n",
    "    dW2 = np.dot(hidden_layer.T, dscores)\n",
    "    db2 = np.sum(dscores, axis=0, keepdims=True)\n",
    "    # next backprop into hidden layer\n",
    "    dhidden = np.dot(dscores, W2.T)\n",
    "    # backprop the ReLU non-linearity\n",
    "    dhidden[hidden_layer <= 0] = 0\n",
    "    # finally into W,b\n",
    "    dW = np.dot(batch_features.T, dhidden)\n",
    "    db = np.sum(dhidden, axis=0, keepdims=True)\n",
    "\n",
    "    # add regularization gradient contribution\n",
    "    dW2 += reg * W2\n",
    "    dW += reg * W\n",
    "\n",
    "    # perform a parameter update\n",
    "    W += -step_size * dW\n",
    "    b += -step_size * db\n",
    "    W2 += -step_size * dW2\n",
    "    b2 += -step_size * db2\n",
    "\n",
    "\n"
   ]
  },
  {
   "cell_type": "code",
   "execution_count": 29,
   "metadata": {},
   "outputs": [
    {
     "name": "stdout",
     "output_type": "stream",
     "text": [
      "training accuracy: 0.87\n"
     ]
    }
   ],
   "source": [
    "# evaluate training set accuracy\n",
    "hidden_layer = np.maximum(0, np.dot(features_array, W) + b)\n",
    "scores = np.dot(hidden_layer, W2) + b2\n",
    "predicted_class = np.argmax(scores, axis=1)\n",
    "print('training accuracy: %.2f' % (np.mean(predicted_class == IDs_indeces)))"
   ]
  },
  {
   "cell_type": "code",
   "execution_count": 30,
   "metadata": {},
   "outputs": [
    {
     "name": "stdout",
     "output_type": "stream",
     "text": [
      "Extracted row =  1610\n",
      "Scores:\n",
      "- Kaon:      4.014118017742871\n",
      "- Pion:      -0.9369944195835496\n",
      "- Positron:  -10.151649275911437\n",
      "- Proton:    7.075269538565873\n",
      "Extracted test particle:  Proton\n",
      "Predicted Particle:  Proton\n"
     ]
    }
   ],
   "source": [
    "random_particle = np.random.randint(0, len(test_features_array + 1))\n",
    "print(\"Extracted row = \", random_particle)\n",
    "hidden_layer = np.maximum(0, np.dot(test_features_array[random_particle], W) + b)\n",
    "scores = np.dot(hidden_layer, W2) + b2\n",
    "print(\"Scores:\")\n",
    "print(\"- Kaon:     \", scores[0][0])\n",
    "print(\"- Pion:     \", scores[0][1])\n",
    "print(\"- Positron: \", scores[0][2])\n",
    "print(\"- Proton:   \", scores[0][3])\n",
    "print(\"Extracted test particle: \",particle_labels[test_IDs_array[random_particle]])\n",
    "index = np.argmax(scores)\n",
    "particle_id = next(key for key, value in particleIDs_index.items() if value == index)\n",
    "print(\"Predicted Particle: \", particle_labels[particle_id])"
   ]
  }
 ],
 "metadata": {
  "kernelspec": {
   "display_name": "Python 3",
   "language": "python",
   "name": "python3"
  },
  "language_info": {
   "codemirror_mode": {
    "name": "ipython",
    "version": 3
   },
   "file_extension": ".py",
   "mimetype": "text/x-python",
   "name": "python",
   "nbconvert_exporter": "python",
   "pygments_lexer": "ipython3",
   "version": "3.10.12"
  },
  "orig_nbformat": 4
 },
 "nbformat": 4,
 "nbformat_minor": 2
}
